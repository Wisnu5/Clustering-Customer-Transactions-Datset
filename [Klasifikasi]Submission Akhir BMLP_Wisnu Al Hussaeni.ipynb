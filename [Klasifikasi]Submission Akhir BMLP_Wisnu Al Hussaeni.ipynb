{
  "nbformat": 4,
  "nbformat_minor": 0,
  "metadata": {
    "colab": {
      "provenance": []
    },
    "kernelspec": {
      "name": "python3",
      "display_name": "Python 3"
    },
    "language_info": {
      "name": "python"
    }
  },
  "cells": [
    {
      "cell_type": "markdown",
      "source": [
        "# **1. Import Library**"
      ],
      "metadata": {
        "id": "fKADPWcFKlj3"
      }
    },
    {
      "cell_type": "markdown",
      "source": [
        "Pada tahap ini, Anda perlu mengimpor beberapa pustaka (library) Python yang dibutuhkan untuk analisis data dan pembangunan model machine learning."
      ],
      "metadata": {
        "id": "LgA3ERnVn84N"
      }
    },
    {
      "cell_type": "code",
      "source": [
        "# Import library\n",
        "import pandas as pd\n",
        "import numpy as np\n",
        "from sklearn.model_selection import train_test_split\n",
        "from sklearn.ensemble import RandomForestClassifier\n",
        "from sklearn.tree import DecisionTreeClassifier\n",
        "from sklearn.model_selection import GridSearchCV, RandomizedSearchCV\n",
        "from sklearn.metrics import accuracy_score, f1_score, confusion_matrix\n",
        "from sklearn.metrics import classification_report"
      ],
      "metadata": {
        "id": "BlmvjLY9M4Yj"
      },
      "execution_count": 1,
      "outputs": []
    },
    {
      "cell_type": "markdown",
      "source": [
        "# **2. Memuat Dataset dari Hasil Clustering**"
      ],
      "metadata": {
        "id": "f3YIEnAFKrKL"
      }
    },
    {
      "cell_type": "markdown",
      "source": [
        "Memuat dataset hasil clustering dari file CSV ke dalam variabel DataFrame."
      ],
      "metadata": {
        "id": "Ey3ItwTen_7E"
      }
    },
    {
      "cell_type": "code",
      "source": [
        "# Load data\n",
        "file_path = '/content/clustering_results.csv'\n",
        "df = pd.read_csv(file_path)\n",
        "df.head()"
      ],
      "metadata": {
        "id": "GHCGNTyrM5fS",
        "colab": {
          "base_uri": "https://localhost:8080/",
          "height": 206
        },
        "outputId": "8540caeb-2df6-4610-db0a-30356afca987"
      },
      "execution_count": 2,
      "outputs": [
        {
          "output_type": "execute_result",
          "data": {
            "text/plain": [
              "   Customer_ID   Age  Annual_Income  Spending_Score  Purchase_Frequency  \\\n",
              "0         8270  31.0   75851.592212       77.104268                17.0   \n",
              "1         1860  48.0   44460.183764       61.349076                25.0   \n",
              "2         6390  17.0   43677.755605       22.589956                 9.0   \n",
              "3         6191  34.0   48666.812544       82.069525                 0.0   \n",
              "4         6734  44.0   46080.334029       65.076915                 3.0   \n",
              "\n",
              "   Transaction_Amount  Cluster  Cluster_Selected  \n",
              "0          129.724190        1                 1  \n",
              "1           91.479265        1                 1  \n",
              "2          130.573812        3                 0  \n",
              "3           72.395846        2                 3  \n",
              "4          156.399077        3                 0  "
            ],
            "text/html": [
              "\n",
              "  <div id=\"df-98c81ab1-ff96-4d01-9590-030e2e492d55\" class=\"colab-df-container\">\n",
              "    <div>\n",
              "<style scoped>\n",
              "    .dataframe tbody tr th:only-of-type {\n",
              "        vertical-align: middle;\n",
              "    }\n",
              "\n",
              "    .dataframe tbody tr th {\n",
              "        vertical-align: top;\n",
              "    }\n",
              "\n",
              "    .dataframe thead th {\n",
              "        text-align: right;\n",
              "    }\n",
              "</style>\n",
              "<table border=\"1\" class=\"dataframe\">\n",
              "  <thead>\n",
              "    <tr style=\"text-align: right;\">\n",
              "      <th></th>\n",
              "      <th>Customer_ID</th>\n",
              "      <th>Age</th>\n",
              "      <th>Annual_Income</th>\n",
              "      <th>Spending_Score</th>\n",
              "      <th>Purchase_Frequency</th>\n",
              "      <th>Transaction_Amount</th>\n",
              "      <th>Cluster</th>\n",
              "      <th>Cluster_Selected</th>\n",
              "    </tr>\n",
              "  </thead>\n",
              "  <tbody>\n",
              "    <tr>\n",
              "      <th>0</th>\n",
              "      <td>8270</td>\n",
              "      <td>31.0</td>\n",
              "      <td>75851.592212</td>\n",
              "      <td>77.104268</td>\n",
              "      <td>17.0</td>\n",
              "      <td>129.724190</td>\n",
              "      <td>1</td>\n",
              "      <td>1</td>\n",
              "    </tr>\n",
              "    <tr>\n",
              "      <th>1</th>\n",
              "      <td>1860</td>\n",
              "      <td>48.0</td>\n",
              "      <td>44460.183764</td>\n",
              "      <td>61.349076</td>\n",
              "      <td>25.0</td>\n",
              "      <td>91.479265</td>\n",
              "      <td>1</td>\n",
              "      <td>1</td>\n",
              "    </tr>\n",
              "    <tr>\n",
              "      <th>2</th>\n",
              "      <td>6390</td>\n",
              "      <td>17.0</td>\n",
              "      <td>43677.755605</td>\n",
              "      <td>22.589956</td>\n",
              "      <td>9.0</td>\n",
              "      <td>130.573812</td>\n",
              "      <td>3</td>\n",
              "      <td>0</td>\n",
              "    </tr>\n",
              "    <tr>\n",
              "      <th>3</th>\n",
              "      <td>6191</td>\n",
              "      <td>34.0</td>\n",
              "      <td>48666.812544</td>\n",
              "      <td>82.069525</td>\n",
              "      <td>0.0</td>\n",
              "      <td>72.395846</td>\n",
              "      <td>2</td>\n",
              "      <td>3</td>\n",
              "    </tr>\n",
              "    <tr>\n",
              "      <th>4</th>\n",
              "      <td>6734</td>\n",
              "      <td>44.0</td>\n",
              "      <td>46080.334029</td>\n",
              "      <td>65.076915</td>\n",
              "      <td>3.0</td>\n",
              "      <td>156.399077</td>\n",
              "      <td>3</td>\n",
              "      <td>0</td>\n",
              "    </tr>\n",
              "  </tbody>\n",
              "</table>\n",
              "</div>\n",
              "    <div class=\"colab-df-buttons\">\n",
              "\n",
              "  <div class=\"colab-df-container\">\n",
              "    <button class=\"colab-df-convert\" onclick=\"convertToInteractive('df-98c81ab1-ff96-4d01-9590-030e2e492d55')\"\n",
              "            title=\"Convert this dataframe to an interactive table.\"\n",
              "            style=\"display:none;\">\n",
              "\n",
              "  <svg xmlns=\"http://www.w3.org/2000/svg\" height=\"24px\" viewBox=\"0 -960 960 960\">\n",
              "    <path d=\"M120-120v-720h720v720H120Zm60-500h600v-160H180v160Zm220 220h160v-160H400v160Zm0 220h160v-160H400v160ZM180-400h160v-160H180v160Zm440 0h160v-160H620v160ZM180-180h160v-160H180v160Zm440 0h160v-160H620v160Z\"/>\n",
              "  </svg>\n",
              "    </button>\n",
              "\n",
              "  <style>\n",
              "    .colab-df-container {\n",
              "      display:flex;\n",
              "      gap: 12px;\n",
              "    }\n",
              "\n",
              "    .colab-df-convert {\n",
              "      background-color: #E8F0FE;\n",
              "      border: none;\n",
              "      border-radius: 50%;\n",
              "      cursor: pointer;\n",
              "      display: none;\n",
              "      fill: #1967D2;\n",
              "      height: 32px;\n",
              "      padding: 0 0 0 0;\n",
              "      width: 32px;\n",
              "    }\n",
              "\n",
              "    .colab-df-convert:hover {\n",
              "      background-color: #E2EBFA;\n",
              "      box-shadow: 0px 1px 2px rgba(60, 64, 67, 0.3), 0px 1px 3px 1px rgba(60, 64, 67, 0.15);\n",
              "      fill: #174EA6;\n",
              "    }\n",
              "\n",
              "    .colab-df-buttons div {\n",
              "      margin-bottom: 4px;\n",
              "    }\n",
              "\n",
              "    [theme=dark] .colab-df-convert {\n",
              "      background-color: #3B4455;\n",
              "      fill: #D2E3FC;\n",
              "    }\n",
              "\n",
              "    [theme=dark] .colab-df-convert:hover {\n",
              "      background-color: #434B5C;\n",
              "      box-shadow: 0px 1px 3px 1px rgba(0, 0, 0, 0.15);\n",
              "      filter: drop-shadow(0px 1px 2px rgba(0, 0, 0, 0.3));\n",
              "      fill: #FFFFFF;\n",
              "    }\n",
              "  </style>\n",
              "\n",
              "    <script>\n",
              "      const buttonEl =\n",
              "        document.querySelector('#df-98c81ab1-ff96-4d01-9590-030e2e492d55 button.colab-df-convert');\n",
              "      buttonEl.style.display =\n",
              "        google.colab.kernel.accessAllowed ? 'block' : 'none';\n",
              "\n",
              "      async function convertToInteractive(key) {\n",
              "        const element = document.querySelector('#df-98c81ab1-ff96-4d01-9590-030e2e492d55');\n",
              "        const dataTable =\n",
              "          await google.colab.kernel.invokeFunction('convertToInteractive',\n",
              "                                                    [key], {});\n",
              "        if (!dataTable) return;\n",
              "\n",
              "        const docLinkHtml = 'Like what you see? Visit the ' +\n",
              "          '<a target=\"_blank\" href=https://colab.research.google.com/notebooks/data_table.ipynb>data table notebook</a>'\n",
              "          + ' to learn more about interactive tables.';\n",
              "        element.innerHTML = '';\n",
              "        dataTable['output_type'] = 'display_data';\n",
              "        await google.colab.output.renderOutput(dataTable, element);\n",
              "        const docLink = document.createElement('div');\n",
              "        docLink.innerHTML = docLinkHtml;\n",
              "        element.appendChild(docLink);\n",
              "      }\n",
              "    </script>\n",
              "  </div>\n",
              "\n",
              "\n",
              "<div id=\"df-032ceb66-ee4f-4921-b906-4af257f4de94\">\n",
              "  <button class=\"colab-df-quickchart\" onclick=\"quickchart('df-032ceb66-ee4f-4921-b906-4af257f4de94')\"\n",
              "            title=\"Suggest charts\"\n",
              "            style=\"display:none;\">\n",
              "\n",
              "<svg xmlns=\"http://www.w3.org/2000/svg\" height=\"24px\"viewBox=\"0 0 24 24\"\n",
              "     width=\"24px\">\n",
              "    <g>\n",
              "        <path d=\"M19 3H5c-1.1 0-2 .9-2 2v14c0 1.1.9 2 2 2h14c1.1 0 2-.9 2-2V5c0-1.1-.9-2-2-2zM9 17H7v-7h2v7zm4 0h-2V7h2v10zm4 0h-2v-4h2v4z\"/>\n",
              "    </g>\n",
              "</svg>\n",
              "  </button>\n",
              "\n",
              "<style>\n",
              "  .colab-df-quickchart {\n",
              "      --bg-color: #E8F0FE;\n",
              "      --fill-color: #1967D2;\n",
              "      --hover-bg-color: #E2EBFA;\n",
              "      --hover-fill-color: #174EA6;\n",
              "      --disabled-fill-color: #AAA;\n",
              "      --disabled-bg-color: #DDD;\n",
              "  }\n",
              "\n",
              "  [theme=dark] .colab-df-quickchart {\n",
              "      --bg-color: #3B4455;\n",
              "      --fill-color: #D2E3FC;\n",
              "      --hover-bg-color: #434B5C;\n",
              "      --hover-fill-color: #FFFFFF;\n",
              "      --disabled-bg-color: #3B4455;\n",
              "      --disabled-fill-color: #666;\n",
              "  }\n",
              "\n",
              "  .colab-df-quickchart {\n",
              "    background-color: var(--bg-color);\n",
              "    border: none;\n",
              "    border-radius: 50%;\n",
              "    cursor: pointer;\n",
              "    display: none;\n",
              "    fill: var(--fill-color);\n",
              "    height: 32px;\n",
              "    padding: 0;\n",
              "    width: 32px;\n",
              "  }\n",
              "\n",
              "  .colab-df-quickchart:hover {\n",
              "    background-color: var(--hover-bg-color);\n",
              "    box-shadow: 0 1px 2px rgba(60, 64, 67, 0.3), 0 1px 3px 1px rgba(60, 64, 67, 0.15);\n",
              "    fill: var(--button-hover-fill-color);\n",
              "  }\n",
              "\n",
              "  .colab-df-quickchart-complete:disabled,\n",
              "  .colab-df-quickchart-complete:disabled:hover {\n",
              "    background-color: var(--disabled-bg-color);\n",
              "    fill: var(--disabled-fill-color);\n",
              "    box-shadow: none;\n",
              "  }\n",
              "\n",
              "  .colab-df-spinner {\n",
              "    border: 2px solid var(--fill-color);\n",
              "    border-color: transparent;\n",
              "    border-bottom-color: var(--fill-color);\n",
              "    animation:\n",
              "      spin 1s steps(1) infinite;\n",
              "  }\n",
              "\n",
              "  @keyframes spin {\n",
              "    0% {\n",
              "      border-color: transparent;\n",
              "      border-bottom-color: var(--fill-color);\n",
              "      border-left-color: var(--fill-color);\n",
              "    }\n",
              "    20% {\n",
              "      border-color: transparent;\n",
              "      border-left-color: var(--fill-color);\n",
              "      border-top-color: var(--fill-color);\n",
              "    }\n",
              "    30% {\n",
              "      border-color: transparent;\n",
              "      border-left-color: var(--fill-color);\n",
              "      border-top-color: var(--fill-color);\n",
              "      border-right-color: var(--fill-color);\n",
              "    }\n",
              "    40% {\n",
              "      border-color: transparent;\n",
              "      border-right-color: var(--fill-color);\n",
              "      border-top-color: var(--fill-color);\n",
              "    }\n",
              "    60% {\n",
              "      border-color: transparent;\n",
              "      border-right-color: var(--fill-color);\n",
              "    }\n",
              "    80% {\n",
              "      border-color: transparent;\n",
              "      border-right-color: var(--fill-color);\n",
              "      border-bottom-color: var(--fill-color);\n",
              "    }\n",
              "    90% {\n",
              "      border-color: transparent;\n",
              "      border-bottom-color: var(--fill-color);\n",
              "    }\n",
              "  }\n",
              "</style>\n",
              "\n",
              "  <script>\n",
              "    async function quickchart(key) {\n",
              "      const quickchartButtonEl =\n",
              "        document.querySelector('#' + key + ' button');\n",
              "      quickchartButtonEl.disabled = true;  // To prevent multiple clicks.\n",
              "      quickchartButtonEl.classList.add('colab-df-spinner');\n",
              "      try {\n",
              "        const charts = await google.colab.kernel.invokeFunction(\n",
              "            'suggestCharts', [key], {});\n",
              "      } catch (error) {\n",
              "        console.error('Error during call to suggestCharts:', error);\n",
              "      }\n",
              "      quickchartButtonEl.classList.remove('colab-df-spinner');\n",
              "      quickchartButtonEl.classList.add('colab-df-quickchart-complete');\n",
              "    }\n",
              "    (() => {\n",
              "      let quickchartButtonEl =\n",
              "        document.querySelector('#df-032ceb66-ee4f-4921-b906-4af257f4de94 button');\n",
              "      quickchartButtonEl.style.display =\n",
              "        google.colab.kernel.accessAllowed ? 'block' : 'none';\n",
              "    })();\n",
              "  </script>\n",
              "</div>\n",
              "\n",
              "    </div>\n",
              "  </div>\n"
            ],
            "application/vnd.google.colaboratory.intrinsic+json": {
              "type": "dataframe",
              "variable_name": "df",
              "summary": "{\n  \"name\": \"df\",\n  \"rows\": 10200,\n  \"fields\": [\n    {\n      \"column\": \"Customer_ID\",\n      \"properties\": {\n        \"dtype\": \"number\",\n        \"std\": 2591,\n        \"min\": 1001,\n        \"max\": 9998,\n        \"num_unique_values\": 6002,\n        \"samples\": [\n          7511,\n          1498,\n          4170\n        ],\n        \"semantic_type\": \"\",\n        \"description\": \"\"\n      }\n    },\n    {\n      \"column\": \"Age\",\n      \"properties\": {\n        \"dtype\": \"number\",\n        \"std\": 9.812458422577,\n        \"min\": 8.5,\n        \"max\": 60.5,\n        \"num_unique_values\": 54,\n        \"samples\": [\n          49.0,\n          12.0,\n          10.0\n        ],\n        \"semantic_type\": \"\",\n        \"description\": \"\"\n      }\n    },\n    {\n      \"column\": \"Annual_Income\",\n      \"properties\": {\n        \"dtype\": \"number\",\n        \"std\": 14819.9603152046,\n        \"min\": 9570.548328893288,\n        \"max\": 90721.8218002126,\n        \"num_unique_values\": 9939,\n        \"samples\": [\n          48422.308748113646,\n          43657.81797059311,\n          55468.07168643854\n        ],\n        \"semantic_type\": \"\",\n        \"description\": \"\"\n      }\n    },\n    {\n      \"column\": \"Spending_Score\",\n      \"properties\": {\n        \"dtype\": \"number\",\n        \"std\": 28.62853605148731,\n        \"min\": 1.0092335341030465,\n        \"max\": 99.99006874592682,\n        \"num_unique_values\": 10000,\n        \"samples\": [\n          56.88229838951996,\n          87.44705158115949,\n          5.807924334428407\n        ],\n        \"semantic_type\": \"\",\n        \"description\": \"\"\n      }\n    },\n    {\n      \"column\": \"Purchase_Frequency\",\n      \"properties\": {\n        \"dtype\": \"number\",\n        \"std\": 8.662803667566703,\n        \"min\": 0.0,\n        \"max\": 29.0,\n        \"num_unique_values\": 30,\n        \"samples\": [\n          15.0,\n          7.0,\n          18.0\n        ],\n        \"semantic_type\": \"\",\n        \"description\": \"\"\n      }\n    },\n    {\n      \"column\": \"Transaction_Amount\",\n      \"properties\": {\n        \"dtype\": \"number\",\n        \"std\": 48.948782976748475,\n        \"min\": -35.63134771248302,\n        \"max\": 235.7704107537816,\n        \"num_unique_values\": 9694,\n        \"samples\": [\n          49.41746023621753,\n          141.92031512457908,\n          137.90952315723084\n        ],\n        \"semantic_type\": \"\",\n        \"description\": \"\"\n      }\n    },\n    {\n      \"column\": \"Cluster\",\n      \"properties\": {\n        \"dtype\": \"number\",\n        \"std\": 1,\n        \"min\": 0,\n        \"max\": 3,\n        \"num_unique_values\": 4,\n        \"samples\": [\n          3,\n          0,\n          1\n        ],\n        \"semantic_type\": \"\",\n        \"description\": \"\"\n      }\n    },\n    {\n      \"column\": \"Cluster_Selected\",\n      \"properties\": {\n        \"dtype\": \"number\",\n        \"std\": 1,\n        \"min\": 0,\n        \"max\": 3,\n        \"num_unique_values\": 4,\n        \"samples\": [\n          0,\n          2,\n          1\n        ],\n        \"semantic_type\": \"\",\n        \"description\": \"\"\n      }\n    }\n  ]\n}"
            }
          },
          "metadata": {},
          "execution_count": 2
        }
      ]
    },
    {
      "cell_type": "markdown",
      "source": [
        "# **3. Data Splitting**"
      ],
      "metadata": {
        "id": "KkPem5eWL2UP"
      }
    },
    {
      "cell_type": "markdown",
      "source": [
        "Tahap Data Splitting bertujuan untuk memisahkan dataset menjadi dua bagian: data latih (training set) dan data uji (test set)."
      ],
      "metadata": {
        "id": "YYj1rl_JNI9Y"
      }
    },
    {
      "cell_type": "code",
      "source": [
        "# Data Splitting\n",
        "X = df.drop(['Cluster', 'Cluster_Selected'], axis=1)\n",
        "y = df['Cluster']\n",
        "\n",
        "# Split data into training and testing sets\n",
        "X_train, X_test, y_train, y_test = train_test_split(X, y, test_size=0.2, random_state=42)\n",
        "print(\"Training set shape:\", X_train.shape, y_train.shape)\n",
        "print(\"Testing set shape:\", X_test.shape, y_test.shape)"
      ],
      "metadata": {
        "id": "OubAW-7ONKVj",
        "colab": {
          "base_uri": "https://localhost:8080/"
        },
        "outputId": "14df2146-0276-483d-e517-96fee06eabac"
      },
      "execution_count": 3,
      "outputs": [
        {
          "output_type": "stream",
          "name": "stdout",
          "text": [
            "Training set shape: (8160, 6) (8160,)\n",
            "Testing set shape: (2040, 6) (2040,)\n"
          ]
        }
      ]
    },
    {
      "cell_type": "markdown",
      "source": [
        "# **4. Membangun Model Klasifikasi**\n"
      ],
      "metadata": {
        "id": "IVPbB03CMhTT"
      }
    },
    {
      "cell_type": "markdown",
      "source": [
        "## **a. Membangun Model Klasifikasi**"
      ],
      "metadata": {
        "id": "Ned1pL9zMmBK"
      }
    },
    {
      "cell_type": "markdown",
      "source": [
        "Setelah memilih algoritma klasifikasi yang sesuai, langkah selanjutnya adalah melatih model menggunakan data latih.\n",
        "\n",
        "Berikut adalah rekomendasi tahapannya.\n",
        "1. Pilih algoritma klasifikasi yang sesuai, seperti Logistic Regression, Decision Tree, Random Forest, atau K-Nearest Neighbors (KNN).\n",
        "2. Latih model menggunakan data latih."
      ],
      "metadata": {
        "id": "WAWzPOE4Nkti"
      }
    },
    {
      "cell_type": "code",
      "source": [
        "# Klasifikasi random forest\n",
        "model = RandomForestClassifier(n_estimators=100, random_state=42)\n",
        "model.fit(X_train, y_train)\n",
        "\n",
        "# prediksi\n",
        "y_pred = model.predict(X_test)\n",
        "\n",
        "# accuracy\n",
        "accuracy = accuracy_score(y_test, y_pred)\n",
        "print(\"Accuracy:\", accuracy)"
      ],
      "metadata": {
        "id": "4JYxBe87NLDk",
        "colab": {
          "base_uri": "https://localhost:8080/"
        },
        "outputId": "f6fc2ade-df2a-4df9-efa8-5a440e792d89"
      },
      "execution_count": 4,
      "outputs": [
        {
          "output_type": "stream",
          "name": "stdout",
          "text": [
            "Accuracy: 0.9661764705882353\n"
          ]
        }
      ]
    },
    {
      "cell_type": "markdown",
      "source": [
        "Random Forest adalah algoritma pembelajaran mesin berbasis ensemble learning yang digunakan untuk klasifikasi dan regresi. Algoritma ini menggabungkan beberapa Decision Tree untuk meningkatkan akurasi dan mengurangi overfitting."
      ],
      "metadata": {
        "id": "seYoHNY3XU1y"
      }
    },
    {
      "cell_type": "code",
      "source": [
        "# Klasifikasi decision tree\n",
        "model_dcs = DecisionTreeClassifier(random_state=42)\n",
        "model_dcs.fit(X_train, y_train)\n",
        "\n",
        "# prediksi\n",
        "y_pred_dcs = model_dcs.predict(X_test)\n",
        "\n",
        "# accuracy\n",
        "accuracy_dcs = accuracy_score(y_test, y_pred_dcs)\n",
        "print(\"Accuracy:\", accuracy_dcs)"
      ],
      "metadata": {
        "colab": {
          "base_uri": "https://localhost:8080/"
        },
        "id": "ECcvRPPMjfKw",
        "outputId": "936b9275-2979-4266-8cf3-1859d1671a0c"
      },
      "execution_count": 5,
      "outputs": [
        {
          "output_type": "stream",
          "name": "stdout",
          "text": [
            "Accuracy: 0.9303921568627451\n"
          ]
        }
      ]
    },
    {
      "cell_type": "markdown",
      "source": [
        "Decision Tree adalah algoritma pembelajaran mesin yang digunakan untuk klasifikasi dan regresi. Algoritma ini bekerja dengan membagi data menjadi cabang-cabang berdasarkan aturan yang ditetapkan dari fitur-fitur yang ada."
      ],
      "metadata": {
        "id": "ZrXiz3t1wjv-"
      }
    },
    {
      "cell_type": "markdown",
      "source": [
        "## **b. Evaluasi Model Klasifikasi**"
      ],
      "metadata": {
        "id": "ergzChZFEL-O"
      }
    },
    {
      "cell_type": "markdown",
      "source": [
        "Berikut adalah **rekomendasi** tahapannya.\n",
        "1. Lakukan prediksi menggunakan data uji.\n",
        "2. Hitung metrik evaluasi seperti Accuracy dan F1-Score (Opsional: Precision dan Recall).\n",
        "3. Buat confusion matrix untuk melihat detail prediksi benar dan salah."
      ],
      "metadata": {
        "id": "zOm68u-7NpLT"
      }
    },
    {
      "cell_type": "code",
      "source": [
        "# f1_score random forest\n",
        "f1 = f1_score(y_test, y_pred, average='weighted')\n",
        "print(\"F1-Score:\", f1)\n",
        "\n",
        "# confusion matrix random forest\n",
        "conf_matrix = confusion_matrix(y_test, y_pred)\n",
        "print(\"Confusion Matrix:\\n\", conf_matrix)"
      ],
      "metadata": {
        "id": "tMq4QAssNLip",
        "colab": {
          "base_uri": "https://localhost:8080/"
        },
        "outputId": "3e4aba5b-9336-4118-8ab4-449e6c134b29"
      },
      "execution_count": 6,
      "outputs": [
        {
          "output_type": "stream",
          "name": "stdout",
          "text": [
            "F1-Score: 0.9661674788942466\n",
            "Confusion Matrix:\n",
            " [[498   5  10   2]\n",
            " [  6 494   5   6]\n",
            " [  4   7 499  13]\n",
            " [  3   5   3 480]]\n"
          ]
        }
      ]
    },
    {
      "cell_type": "code",
      "source": [
        "# f1_score decision tree\n",
        "f1_dcs = f1_score(y_test, y_pred_dcs, average='weighted')\n",
        "print(\"F1-Score:\", f1_dcs)\n",
        "\n",
        "# confusion matrix decision tree\n",
        "conf_matrix_dcs = confusion_matrix(y_test, y_pred_dcs)\n",
        "print(\"Confusion Matrix:\\n\", conf_matrix_dcs)"
      ],
      "metadata": {
        "colab": {
          "base_uri": "https://localhost:8080/"
        },
        "id": "h4_4c1w2jpag",
        "outputId": "a8599323-1369-4939-8e42-95611b18cccc"
      },
      "execution_count": 7,
      "outputs": [
        {
          "output_type": "stream",
          "name": "stdout",
          "text": [
            "F1-Score: 0.9303414767689812\n",
            "Confusion Matrix:\n",
            " [[494   7   8   6]\n",
            " [ 13 470  15  13]\n",
            " [ 12  12 475  24]\n",
            " [  7   7  18 459]]\n"
          ]
        }
      ]
    },
    {
      "cell_type": "markdown",
      "source": [
        "Dalam percobaan ini, kita melakukan klasifikasi menggunakan dua algoritma:\n",
        "1. Random Forest (Ensemble Learning)\n",
        "2. Decision Tree (Single Tree Classifier)\n",
        "\n",
        "Evaluasi model dilakukan menggunakan F1-Score dan Confusion Matrix untuk melihat performa masing-masing algoritma dalam mengklasifikasikan data uji.\n",
        "\n",
        "Hasil Evaluasi\n",
        "\n",
        "\n",
        "*   Model\tRandom Forest\tAccuracy 96.62%\tF1-Score 0.9662\n",
        "*   Model Decision Tree\tAccuracy 93.04%\tF1-Score 0.9303\n",
        "\n",
        "Analisis Perbandingan\n",
        "* Random Forest lebih unggul dalam akurasi dan F1-Score dibandingkan Decision Tree.\n",
        "* Random Forest memiliki lebih sedikit kesalahan klasifikasi dibanding Decision Tree (dapat dilihat dari confusion matrix) dimana random forest memilki 63 kesalahan sedangkan decision tree 141 kesalahan.\n",
        "* Decision Tree lebih rentan terhadap overfitting, karena hanya menggunakan satu pohon keputusan.\n",
        "* Random Forest lebih stabil dan generalizable, karena menggabungkan banyak pohon keputusan melalui ensemble learning."
      ],
      "metadata": {
        "id": "H4_9OwrsXZlz"
      }
    },
    {
      "cell_type": "markdown",
      "source": [
        "## **c. Tuning Model Klasifikasi (Optional)**"
      ],
      "metadata": {
        "id": "ph9yIYDXEPuB"
      }
    },
    {
      "cell_type": "markdown",
      "source": [
        "Gunakan GridSearchCV, RandomizedSearchCV, atau metode lainnya untuk mencari kombinasi hyperparameter terbaik"
      ],
      "metadata": {
        "id": "-Bikx3LINv5e"
      }
    },
    {
      "cell_type": "code",
      "source": [
        "# Tuning RandomForestClassifier\n",
        "param_grid = {\n",
        "    'n_estimators': [50, 100, 200],\n",
        "    'max_depth': [None, 10, 20],\n",
        "    'min_samples_split': [2, 5, 10],\n",
        "    'min_samples_leaf': [1, 2, 4]\n",
        "}\n",
        "\n",
        "grid_search = GridSearchCV(estimator=RandomForestClassifier(random_state=42),\n",
        "                           param_grid=param_grid,\n",
        "                           cv=5,\n",
        "                           scoring='accuracy',\n",
        "                           n_jobs=-1)\n",
        "\n",
        "grid_search.fit(X_train, y_train)\n",
        "\n",
        "print(\"Best hyperparameters for RandomForestClassifier:\", grid_search.best_params_)\n",
        "print(\"Best accuracy for RandomForestClassifier:\", grid_search.best_score_)\n",
        "\n",
        "best_rf_model = grid_search.best_estimator_\n",
        "y_pred_tuned_rf = best_rf_model.predict(X_test)\n",
        "accuracy_tuned_rf = accuracy_score(y_test, y_pred_tuned_rf)\n",
        "print(f\"Tuned Random Forest Accuracy: {accuracy_tuned_rf}\")"
      ],
      "metadata": {
        "id": "winbFzb8NL95",
        "colab": {
          "base_uri": "https://localhost:8080/"
        },
        "outputId": "8f1cf895-27ae-4437-af0e-0c4ffa6cf76f"
      },
      "execution_count": 8,
      "outputs": [
        {
          "output_type": "stream",
          "name": "stdout",
          "text": [
            "Best hyperparameters for RandomForestClassifier: {'max_depth': None, 'min_samples_leaf': 1, 'min_samples_split': 2, 'n_estimators': 200}\n",
            "Best accuracy for RandomForestClassifier: 0.9659313725490195\n",
            "Tuned Random Forest Accuracy: 0.9656862745098039\n"
          ]
        }
      ]
    },
    {
      "cell_type": "code",
      "source": [
        "# Tuning DecisionTreeClassifier\n",
        "param_dist = {\n",
        "    'max_depth': [None, 10, 20, 30],\n",
        "    'min_samples_split': [2, 5, 10],\n",
        "    'min_samples_leaf': [1, 2, 4],\n",
        "    'criterion': ['gini', 'entropy']\n",
        "}\n",
        "\n",
        "random_search = RandomizedSearchCV(estimator=DecisionTreeClassifier(random_state=42),\n",
        "                                   param_distributions=param_dist,\n",
        "                                   n_iter=10,  # Number of parameter settings sampled\n",
        "                                   cv=5,\n",
        "                                   scoring='accuracy',\n",
        "                                   n_jobs=-1,\n",
        "                                   random_state=42)\n",
        "\n",
        "random_search.fit(X_train, y_train)\n",
        "\n",
        "print(\"\\nBest hyperparameters for DecisionTreeClassifier:\", random_search.best_params_)\n",
        "print(\"Best accuracy for DecisionTreeClassifier:\", random_search.best_score_)\n",
        "\n",
        "best_dt_model = random_search.best_estimator_\n",
        "y_pred_tuned_dt = best_dt_model.predict(X_test)\n",
        "accuracy_tuned_dt = accuracy_score(y_test, y_pred_tuned_dt)\n",
        "print(f\"Tuned Decision Tree Accuracy: {accuracy_tuned_dt}\")"
      ],
      "metadata": {
        "colab": {
          "base_uri": "https://localhost:8080/"
        },
        "id": "Y1HuflOykjO0",
        "outputId": "f93094c6-6c09-4811-ff3c-baa1c7ca2f5d"
      },
      "execution_count": 9,
      "outputs": [
        {
          "output_type": "stream",
          "name": "stdout",
          "text": [
            "\n",
            "Best hyperparameters for DecisionTreeClassifier: {'min_samples_split': 2, 'min_samples_leaf': 1, 'max_depth': 20, 'criterion': 'entropy'}\n",
            "Best accuracy for DecisionTreeClassifier: 0.9403186274509803\n",
            "Tuned Decision Tree Accuracy: 0.9382352941176471\n"
          ]
        }
      ]
    },
    {
      "cell_type": "markdown",
      "source": [
        "## **d. Evaluasi Model Klasifikasi setelah Tuning (Optional)**"
      ],
      "metadata": {
        "id": "hE7pqlEPEYzI"
      }
    },
    {
      "cell_type": "markdown",
      "source": [
        "Berikut adalah rekomendasi tahapannya.\n",
        "1. Gunakan model dengan hyperparameter terbaik.\n",
        "2. Hitung ulang metrik evaluasi untuk melihat apakah ada peningkatan performa."
      ],
      "metadata": {
        "id": "feaPESoeN0zz"
      }
    },
    {
      "cell_type": "code",
      "source": [
        "# model dengan hyperparameter terbaik.\n",
        "# For RandomForestClassifier:\n",
        "y_pred_tuned_rf = best_rf_model.predict(X_test)\n",
        "accuracy_tuned_rf = accuracy_score(y_test, y_pred_tuned_rf)\n",
        "f1_tuned_rf = f1_score(y_test, y_pred_tuned_rf, average='weighted')\n",
        "conf_matrix_tuned_rf = confusion_matrix(y_test, y_pred_tuned_rf)\n",
        "\n",
        "print(\"Tuned Random Forest Results:\")\n",
        "print(f\"Accuracy: {accuracy}\")\n",
        "print(f\"Accuracy Tuned: {accuracy_tuned_rf}\")\n",
        "print(f\"F1-Score: {f1_tuned_rf}\")\n",
        "print(f\"Confusion Matrix:\\n{conf_matrix_tuned_rf}\")"
      ],
      "metadata": {
        "id": "HTXZRvEeNMb1",
        "colab": {
          "base_uri": "https://localhost:8080/"
        },
        "outputId": "286b3e86-081c-4310-9a03-3b93c3753794"
      },
      "execution_count": 10,
      "outputs": [
        {
          "output_type": "stream",
          "name": "stdout",
          "text": [
            "Tuned Random Forest Results:\n",
            "Accuracy: 0.9661764705882353\n",
            "Accuracy Tuned: 0.9656862745098039\n",
            "F1-Score: 0.9656827379873166\n",
            "Confusion Matrix:\n",
            "[[497   6   9   3]\n",
            " [  5 493   7   6]\n",
            " [  4   7 500  12]\n",
            " [  3   5   3 480]]\n"
          ]
        }
      ]
    },
    {
      "cell_type": "code",
      "source": [
        "# For DecisionTreeClassifier:\n",
        "y_pred_tuned_dt = best_dt_model.predict(X_test)\n",
        "accuracy_tuned_dt = accuracy_score(y_test, y_pred_tuned_dt)\n",
        "f1_tuned_dt = f1_score(y_test, y_pred_tuned_dt, average='weighted')\n",
        "conf_matrix_tuned_dt = confusion_matrix(y_test, y_pred_tuned_dt)\n",
        "\n",
        "print(\"Tuned Decision Tree Results:\")\n",
        "print(f\"Accuracy: {accuracy_dcs}\")\n",
        "print(f\"Accuracy: {accuracy_tuned_dt}\")\n",
        "print(f\"F1-Score: {f1_tuned_dt}\")\n",
        "print(f\"Confusion Matrix:\\n{conf_matrix_tuned_dt}\")"
      ],
      "metadata": {
        "colab": {
          "base_uri": "https://localhost:8080/"
        },
        "id": "Y9qavXUkpGdP",
        "outputId": "75dd4030-b45a-4dfa-d0b2-4512831083c8"
      },
      "execution_count": 11,
      "outputs": [
        {
          "output_type": "stream",
          "name": "stdout",
          "text": [
            "Tuned Decision Tree Results:\n",
            "Accuracy: 0.9303921568627451\n",
            "Accuracy: 0.9382352941176471\n",
            "F1-Score: 0.9382065181734242\n",
            "Confusion Matrix:\n",
            "[[487  11  11   6]\n",
            " [ 13 482   7   9]\n",
            " [ 10  10 478  25]\n",
            " [  7   9   8 467]]\n"
          ]
        }
      ]
    },
    {
      "cell_type": "code",
      "source": [
        "if accuracy_tuned_rf > accuracy_tuned_dt:\n",
        "    print(\"\\nThe tuned Random Forest model performs better.\")\n",
        "    best_model = best_rf_model\n",
        "else:\n",
        "    print(\"\\nThe tuned Decision Tree model performs better.\")\n",
        "    best_model = best_dt_model"
      ],
      "metadata": {
        "colab": {
          "base_uri": "https://localhost:8080/"
        },
        "id": "567s5UP1peje",
        "outputId": "294fc81b-8142-4647-e758-9ff328efb2a5"
      },
      "execution_count": 12,
      "outputs": [
        {
          "output_type": "stream",
          "name": "stdout",
          "text": [
            "\n",
            "The tuned Random Forest model performs better.\n"
          ]
        }
      ]
    },
    {
      "cell_type": "markdown",
      "source": [
        "## **e. Analisis Hasil Evaluasi Model Klasifikasi**"
      ],
      "metadata": {
        "id": "ZRsOdm4uEgAW"
      }
    },
    {
      "cell_type": "markdown",
      "source": [
        "Berikut adalah **rekomendasi** tahapannya.\n",
        "1. Bandingkan hasil evaluasi sebelum dan setelah tuning (jika dilakukan).\n",
        "2. Identifikasi kelemahan model, seperti:\n",
        "  - Precision atau Recall rendah untuk kelas tertentu.\n",
        "  - Apakah model mengalami overfitting atau underfitting?\n",
        "3. Berikan rekomendasi tindakan lanjutan, seperti mengumpulkan data tambahan atau mencoba algoritma lain jika hasil belum memuaskan."
      ],
      "metadata": {
        "id": "Hm3BhSi6N4_l"
      }
    },
    {
      "cell_type": "code",
      "source": [
        "print(\"Tuned Random Forest Results:\")\n",
        "print(f\"Accuracy: {accuracy}\")\n",
        "print(f\"Accuracy Tuned: {accuracy_tuned_rf}\")\n",
        "print(f\"F1-Score: {f1_tuned_rf}\")\n",
        "print(f\"Confusion Matrix:\\n{conf_matrix_tuned_rf}\")"
      ],
      "metadata": {
        "colab": {
          "base_uri": "https://localhost:8080/"
        },
        "id": "9g8N8gMxzZxS",
        "outputId": "fabb4d25-d959-4dd4-ed1a-5654e8fcf091"
      },
      "execution_count": 13,
      "outputs": [
        {
          "output_type": "stream",
          "name": "stdout",
          "text": [
            "Tuned Random Forest Results:\n",
            "Accuracy: 0.9661764705882353\n",
            "Accuracy Tuned: 0.9656862745098039\n",
            "F1-Score: 0.9656827379873166\n",
            "Confusion Matrix:\n",
            "[[497   6   9   3]\n",
            " [  5 493   7   6]\n",
            " [  4   7 500  12]\n",
            " [  3   5   3 480]]\n"
          ]
        }
      ]
    },
    {
      "cell_type": "code",
      "source": [
        "print(\"Tuned Decision Tree Results:\")\n",
        "print(f\"Accuracy: {accuracy_dcs}\")\n",
        "print(f\"Accuracy: {accuracy_tuned_dt}\")\n",
        "print(f\"F1-Score: {f1_tuned_dt}\")\n",
        "print(f\"Confusion Matrix:\\n{conf_matrix_tuned_dt}\")"
      ],
      "metadata": {
        "colab": {
          "base_uri": "https://localhost:8080/"
        },
        "id": "KG_EruKkzdvf",
        "outputId": "bf6aa97e-3d0a-488c-88f6-81bf3bc9421c"
      },
      "execution_count": 14,
      "outputs": [
        {
          "output_type": "stream",
          "name": "stdout",
          "text": [
            "Tuned Decision Tree Results:\n",
            "Accuracy: 0.9303921568627451\n",
            "Accuracy: 0.9382352941176471\n",
            "F1-Score: 0.9382065181734242\n",
            "Confusion Matrix:\n",
            "[[487  11  11   6]\n",
            " [ 13 482   7   9]\n",
            " [ 10  10 478  25]\n",
            " [  7   9   8 467]]\n"
          ]
        }
      ]
    },
    {
      "cell_type": "markdown",
      "source": [
        "Random Forest\n",
        "* Perubahan sangat kecil setelah tuning, accuracy turun sedikit dari 96.62% ke 96.57%.\n",
        "* Tuning tidak memberi peningkatan signifikan, kemungkinan model sudah cukup optimal.\n",
        "* Kesalahan klasifikasi hampir sama dengan sebelum tuning.\n",
        "* Model tidak terlalu berubah, menunjukkan tuning kurang efektif.\n",
        "\n",
        "Decision Tree\n",
        "* Peningkatan akurasi setelah tuning dari 93.04% ke 93.82%.\n",
        "* Kesalahan klasifikasi menurun dari 141 menjadi 94, menunjukkan peningkatan model.\n",
        "* Masih lebih buruk dibanding Random Forest karena Decision Tree lebih rentan overfitting."
      ],
      "metadata": {
        "id": "ONqm3lBI0AFK"
      }
    },
    {
      "cell_type": "code",
      "source": [
        "print(classification_report(y_test, y_pred_tuned_rf))\n",
        "print(classification_report(y_test, y_pred_tuned_dt))"
      ],
      "metadata": {
        "colab": {
          "base_uri": "https://localhost:8080/"
        },
        "id": "HTJsAaiT0vx8",
        "outputId": "71d4cda4-b0c7-4451-cdd8-2f4127a93513"
      },
      "execution_count": 15,
      "outputs": [
        {
          "output_type": "stream",
          "name": "stdout",
          "text": [
            "              precision    recall  f1-score   support\n",
            "\n",
            "           0       0.98      0.97      0.97       515\n",
            "           1       0.96      0.96      0.96       511\n",
            "           2       0.96      0.96      0.96       523\n",
            "           3       0.96      0.98      0.97       491\n",
            "\n",
            "    accuracy                           0.97      2040\n",
            "   macro avg       0.97      0.97      0.97      2040\n",
            "weighted avg       0.97      0.97      0.97      2040\n",
            "\n",
            "              precision    recall  f1-score   support\n",
            "\n",
            "           0       0.94      0.95      0.94       515\n",
            "           1       0.94      0.94      0.94       511\n",
            "           2       0.95      0.91      0.93       523\n",
            "           3       0.92      0.95      0.94       491\n",
            "\n",
            "    accuracy                           0.94      2040\n",
            "   macro avg       0.94      0.94      0.94      2040\n",
            "weighted avg       0.94      0.94      0.94      2040\n",
            "\n"
          ]
        }
      ]
    },
    {
      "cell_type": "markdown",
      "source": [
        "Precision atau Recall Rendah untuk Kelas Tertentu\n",
        "* Random Forest lebih stabil, tetapi masih ada beberapa salah klasifikasi pada kelas minoritas.\n",
        "* Pada Decision Tree, banyak kesalahan pada kelas 2 dan 3.\n",
        "\n",
        "Overfitting atau Underfitting\n",
        "* Random Forest lebih robust, tetapi tuning tidak memberikan perbedaan signifikan karena model sudah cukup optimal.\n",
        "* Decision Tree lebih rentan overfitting karena hanya satu pohon yang menentukan hasilnya."
      ],
      "metadata": {
        "id": "oabpvKKp17Dx"
      }
    },
    {
      "cell_type": "markdown",
      "source": [
        "Rekomendasi Tindakan Lanjutan\n",
        "Jika ingin meningkatkan akurasi lebih jauh:\n",
        "* Coba Boosting seperti XGBoost atau Gradient Boosting untuk meningkatkan akurasi.\n",
        "* Atau menggunakan algoritma lain seperti SVM atau Neural Networks untuk eksplorasi lebih lanjut.\n",
        "\n",
        "Jika model masih overfitting atau kurang stabil:\n",
        "* Kurangi jumlah estimators pada Random Forest untuk mengurangi kompleksitas.\n",
        "* Kurangi depth pada Decision Tree atau gunakan Pruning."
      ],
      "metadata": {
        "id": "dp8iJHfC2Ln1"
      }
    }
  ]
}